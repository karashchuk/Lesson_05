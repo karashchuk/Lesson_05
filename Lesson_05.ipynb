{
 "cells": [
  {
   "cell_type": "code",
   "execution_count": 22,
   "metadata": {
    "collapsed": false
   },
   "outputs": [
    {
     "name": "stdout",
     "output_type": "stream",
     "text": [
      "0 992\n",
      "1 980\n",
      "2 1010\n",
      "3 978\n",
      "4 1000\n",
      "5 1016\n",
      "6 1028\n",
      "7 1003\n",
      "8 1025\n",
      "9 1002\n",
      "10 987\n",
      "11 965\n",
      "12 1000\n",
      "13 992\n",
      "14 1052\n",
      "15 996\n",
      "16 1055\n",
      "17 1035\n",
      "18 1030\n",
      "19 967\n",
      "20 1005\n",
      "21 973\n",
      "22 998\n",
      "23 947\n",
      "24 1012\n",
      "25 982\n",
      "26 1009\n",
      "27 981\n",
      "28 1010\n",
      "29 959\n",
      "30 983\n",
      "31 1042\n",
      "32 996\n",
      "33 982\n",
      "34 993\n",
      "35 998\n",
      "36 1017\n",
      "37000\n"
     ]
    }
   ],
   "source": [
    "# Задание № 1\n",
    "%matplotlib inline\n",
    "import numpy as np\n",
    "y=[]\n",
    "for j in range (0,37):\n",
    "    y.append(0)\n",
    "for i in range (0,37000):\n",
    "    x = np.random.uniform(0,37)\n",
    "    if x ==37:\n",
    "        x=0\n",
    "    else:\n",
    "        x= int(x)\n",
    "    y[x]+=1\n",
    "# Результат показывает какая цифра от 0 до 36 на рулетке выпадет сколько раз при 37 тыс вращений рулетки        \n",
    "for i in range(0,37):\n",
    "    print(i, y[i])\n",
    "#Задание 2.1 Так как события у нас полная группа несовместных событий, то сумма всех вероятностей выпадения каждой цифры = 1, или сумма всех выпадений = сумме вращений рлетки\n",
    "print (sum(y))\n"
   ]
  },
  {
   "cell_type": "code",
   "execution_count": 25,
   "metadata": {
    "collapsed": false
   },
   "outputs": [
    {
     "name": "stdout",
     "output_type": "stream",
     "text": [
      "{0: 968, 1: 980, 2: 989, 3: 996, 4: 1099, 5: 1020, 6: 998, 7: 996, 8: 1073, 9: 992, 10: 1029, 11: 1041, 12: 980, 13: 999, 14: 982, 15: 1043, 16: 1033, 17: 958, 18: 943, 19: 1023, 20: 1027, 21: 998, 22: 943, 23: 982, 24: 1010, 25: 984, 26: 937, 27: 988, 28: 992, 29: 1007, 30: 991, 31: 1001, 32: 1003, 33: 978, 34: 961, 35: 1042, 36: 1014}\n",
      "37000\n"
     ]
    }
   ],
   "source": [
    "# Задание № 1'\n",
    "# Другой способ случайной выборки для рулетки используя генератор целых чисел и отображение в виде словаря\n",
    "%matplotlib inline\n",
    "import numpy as np\n",
    "y={a:0 for a in range(0,37)}\n",
    "for i in range (0,37000):\n",
    "    x = np.random.randint(0,37)\n",
    "    y[x]+=1\n",
    "print(y)\n"
   ]
  },
  {
   "cell_type": "code",
   "execution_count": 48,
   "metadata": {
    "collapsed": false
   },
   "outputs": [
    {
     "name": "stdout",
     "output_type": "stream",
     "text": [
      "0.12377\n"
     ]
    }
   ],
   "source": [
    "#Задание 2.1  \n",
    "# Проверим теорему: Если А и В независимы:  Р(АВ) = Р(А)*Р(В). на примере генератора чисел 0 или 1. \n",
    "# Вероятность выпадения 1 =  0,5 вычисли вероятность выпадения 1 три раза подряд = 0.5*0.5*0.5 = 0.125\n",
    "# создадим список суммы трех подряд генерации и вычислим количество выпадений трех 1 по отношению к количеству попыток\n",
    "%matplotlib inline\n",
    "import numpy as np\n",
    "x=[]\n",
    "k=3\n",
    "for i in range (0,100000):\n",
    "    s=0\n",
    "    for j in range (0,k):\n",
    "        a = np.random.randint(0,2)\n",
    "        s+=a\n",
    "    x.append(s)\n",
    "print(x.count(k)/len(x))"
   ]
  },
  {
   "cell_type": "code",
   "execution_count": 85,
   "metadata": {
    "collapsed": false
   },
   "outputs": [
    {
     "data": {
      "text/plain": [
       "<matplotlib.text.Text at 0x644c4e0>"
      ]
     },
     "execution_count": 85,
     "metadata": {},
     "output_type": "execute_result"
    },
    {
     "data": {
      "image/png": "[encoded data removed]",
      "text/plain": [
       "<matplotlib.figure.Figure at 0x44a7f28>"
      ]
     },
     "metadata": {},
     "output_type": "display_data"
    }
   ],
   "source": [
    "#Задание 2.2  \n",
    "%matplotlib inline\n",
    "import numpy as np\n",
    "import matplotlib.pyplot as plt\n",
    "import matplotlib.mlab as mlab\n",
    "x=[]\n",
    "for i in range(0,10):\n",
    "    x.append(np.random.rand(1000)) # выборка интереснее если не 10 числе в массиве а больше\n",
    "#print (sum(x))\n",
    "num_bins = 10\n",
    "n,bins,patches = plt.hist(sum(x),num_bins)\n",
    "plt.xlabel(\"sum(x)\")\n",
    "plt.ylabel(\"probability\")\n",
    "plt.title('Histogram')"
   ]
  },
  {
   "cell_type": "code",
   "execution_count": null,
   "metadata": {
    "collapsed": true
   },
   "outputs": [],
   "source": []
  },
  {
   "cell_type": "code",
   "execution_count": null,
   "metadata": {
    "collapsed": true
   },
   "outputs": [],
   "source": []
  },
  {
   "cell_type": "code",
   "execution_count": null,
   "metadata": {
    "collapsed": true
   },
   "outputs": [],
   "source": []
  }
 ],
 "metadata": {
  "kernelspec": {
   "display_name": "Python 3",
   "language": "python",
   "name": "python3"
  },
  "language_info": {
   "codemirror_mode": {
    "name": "ipython",
    "version": 3
   },
   "file_extension": ".py",
   "mimetype": "text/x-python",
   "name": "python",
   "nbconvert_exporter": "python",
   "pygments_lexer": "ipython3",
   "version": "3.5.1"
  }
 },
 "nbformat": 4,
 "nbformat_minor": 0
}
